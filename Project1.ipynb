{
 "cells": [
  {
   "cell_type": "markdown",
   "id": "8b0a479e",
   "metadata": {},
   "source": [
    "### Analysis to compare the arrival delays between Alaska and AM West\n",
    "\n",
    "Impornt pandas Library"
   ]
  },
  {
   "cell_type": "code",
   "execution_count": 100,
   "id": "1a81e7ce",
   "metadata": {},
   "outputs": [],
   "source": [
    "import pandas as pd"
   ]
  },
  {
   "cell_type": "markdown",
   "id": "d2dbe6c5",
   "metadata": {},
   "source": [
    "Load the dataset from csv file"
   ]
  },
  {
   "cell_type": "code",
   "execution_count": 101,
   "id": "7981b75c",
   "metadata": {},
   "outputs": [],
   "source": [
    "df=pd.read_csv('Project1.csv')\n",
    "df"
   ]
  },
  {
   "cell_type": "markdown",
   "id": "f43b8f60",
   "metadata": {},
   "source": [
    "List the delay and on time comparison between two airlines over the destinations by showing in a matrix. (Pivot table)"
   ]
  },
  {
   "cell_type": "code",
   "execution_count": 105,
   "id": "bcd02466",
   "metadata": {},
   "outputs": [
    {
     "data": {
      "text/html": [
       "<div>\n",
       "<style scoped>\n",
       "    .dataframe tbody tr th:only-of-type {\n",
       "        vertical-align: middle;\n",
       "    }\n",
       "\n",
       "    .dataframe tbody tr th {\n",
       "        vertical-align: top;\n",
       "    }\n",
       "\n",
       "    .dataframe thead tr th {\n",
       "        text-align: left;\n",
       "    }\n",
       "\n",
       "    .dataframe thead tr:last-of-type th {\n",
       "        text-align: right;\n",
       "    }\n",
       "</style>\n",
       "<table border=\"1\" class=\"dataframe\">\n",
       "  <thead>\n",
       "    <tr>\n",
       "      <th></th>\n",
       "      <th></th>\n",
       "      <th colspan=\"5\" halign=\"left\">Times</th>\n",
       "    </tr>\n",
       "    <tr>\n",
       "      <th></th>\n",
       "      <th>Destination</th>\n",
       "      <th>Los Angeles</th>\n",
       "      <th>Phoenix</th>\n",
       "      <th>San Diego</th>\n",
       "      <th>San Francisco</th>\n",
       "      <th>Seattle</th>\n",
       "    </tr>\n",
       "    <tr>\n",
       "      <th>Airline</th>\n",
       "      <th>OnTimeOrDelay</th>\n",
       "      <th></th>\n",
       "      <th></th>\n",
       "      <th></th>\n",
       "      <th></th>\n",
       "      <th></th>\n",
       "    </tr>\n",
       "  </thead>\n",
       "  <tbody>\n",
       "    <tr>\n",
       "      <th rowspan=\"2\" valign=\"top\">ALASKA</th>\n",
       "      <th>delayed</th>\n",
       "      <td>62</td>\n",
       "      <td>12</td>\n",
       "      <td>20</td>\n",
       "      <td>102</td>\n",
       "      <td>305</td>\n",
       "    </tr>\n",
       "    <tr>\n",
       "      <th>on time</th>\n",
       "      <td>497</td>\n",
       "      <td>221</td>\n",
       "      <td>212</td>\n",
       "      <td>503</td>\n",
       "      <td>1841</td>\n",
       "    </tr>\n",
       "    <tr>\n",
       "      <th rowspan=\"2\" valign=\"top\">AM WEST</th>\n",
       "      <th>delayed</th>\n",
       "      <td>117</td>\n",
       "      <td>415</td>\n",
       "      <td>65</td>\n",
       "      <td>129</td>\n",
       "      <td>61</td>\n",
       "    </tr>\n",
       "    <tr>\n",
       "      <th>on time</th>\n",
       "      <td>694</td>\n",
       "      <td>4840</td>\n",
       "      <td>383</td>\n",
       "      <td>320</td>\n",
       "      <td>201</td>\n",
       "    </tr>\n",
       "  </tbody>\n",
       "</table>\n",
       "</div>"
      ],
      "text/plain": [
       "                            Times                                        \n",
       "Destination           Los Angeles Phoenix San Diego San Francisco Seattle\n",
       "Airline OnTimeOrDelay                                                    \n",
       "ALASKA  delayed                62      12        20           102     305\n",
       "        on time               497     221       212           503    1841\n",
       "AM WEST delayed               117     415        65           129      61\n",
       "        on time               694    4840       383           320     201"
      ]
     },
     "execution_count": 105,
     "metadata": {},
     "output_type": "execute_result"
    }
   ],
   "source": [
    "pivot_table = pd.pivot_table(df,index=[\"Airline\",\"OnTimeOrDelay\"], columns=[\"Destination\"], values=[\"Times\"])\n",
    "pivot_table"
   ]
  },
  {
   "cell_type": "markdown",
   "id": "38264dea",
   "metadata": {},
   "source": [
    "Add the calculation of a total percentage of delayed or on time by airline for comparsion. \n",
    "We can see the total rate of delay for Alaska is 13.27% and 10.89% for AM West. Means, AM West is doing better on delay control over all the destinations."
   ]
  },
  {
   "cell_type": "code",
   "execution_count": 103,
   "id": "e235ecfd",
   "metadata": {},
   "outputs": [
    {
     "data": {
      "text/html": [
       "<div>\n",
       "<style scoped>\n",
       "    .dataframe tbody tr th:only-of-type {\n",
       "        vertical-align: middle;\n",
       "    }\n",
       "\n",
       "    .dataframe tbody tr th {\n",
       "        vertical-align: top;\n",
       "    }\n",
       "\n",
       "    .dataframe thead th {\n",
       "        text-align: right;\n",
       "    }\n",
       "</style>\n",
       "<table border=\"1\" class=\"dataframe\">\n",
       "  <thead>\n",
       "    <tr style=\"text-align: right;\">\n",
       "      <th></th>\n",
       "      <th></th>\n",
       "      <th>Times</th>\n",
       "      <th>% of On Time or Delayed By Airline</th>\n",
       "    </tr>\n",
       "    <tr>\n",
       "      <th>Airline</th>\n",
       "      <th>OnTimeOrDelay</th>\n",
       "      <th></th>\n",
       "      <th></th>\n",
       "    </tr>\n",
       "  </thead>\n",
       "  <tbody>\n",
       "    <tr>\n",
       "      <th rowspan=\"2\" valign=\"top\">ALASKA</th>\n",
       "      <th>delayed</th>\n",
       "      <td>501</td>\n",
       "      <td>13.27%</td>\n",
       "    </tr>\n",
       "    <tr>\n",
       "      <th>on time</th>\n",
       "      <td>3274</td>\n",
       "      <td>86.73%</td>\n",
       "    </tr>\n",
       "    <tr>\n",
       "      <th rowspan=\"2\" valign=\"top\">AM WEST</th>\n",
       "      <th>delayed</th>\n",
       "      <td>787</td>\n",
       "      <td>10.89%</td>\n",
       "    </tr>\n",
       "    <tr>\n",
       "      <th>on time</th>\n",
       "      <td>6438</td>\n",
       "      <td>89.11%</td>\n",
       "    </tr>\n",
       "  </tbody>\n",
       "</table>\n",
       "</div>"
      ],
      "text/plain": [
       "                       Times % of On Time or Delayed By Airline\n",
       "Airline OnTimeOrDelay                                          \n",
       "ALASKA  delayed          501                             13.27%\n",
       "        on time         3274                             86.73%\n",
       "AM WEST delayed          787                             10.89%\n",
       "        on time         6438                             89.11%"
      ]
     },
     "execution_count": 103,
     "metadata": {},
     "output_type": "execute_result"
    }
   ],
   "source": [
    "df2=df.groupby(by=[\"Airline\",\"OnTimeOrDelay\"]).sum(\"Times\")\n",
    "df2[\"% of On Time or Delayed By Airline\"]=round(df2.Times / df2.groupby([\"Airline\"]).Times.transform(sum) * 100,2).astype(str)+\"%\"\n",
    "df2"
   ]
  },
  {
   "cell_type": "markdown",
   "id": "0a02c364",
   "metadata": {},
   "source": [
    "Add the calculation of a subtotal percentage of delayed or on time by airline and destinations for comparsion. We can dive into destinations to see the total rate of delays. By looking at the result below, we know it is interesting that the rate of delay for Alaska is lower than AM West in each individual destination."
   ]
  },
  {
   "cell_type": "code",
   "execution_count": 109,
   "id": "f04f2497",
   "metadata": {},
   "outputs": [
    {
     "data": {
      "text/html": [
       "<div>\n",
       "<style scoped>\n",
       "    .dataframe tbody tr th:only-of-type {\n",
       "        vertical-align: middle;\n",
       "    }\n",
       "\n",
       "    .dataframe tbody tr th {\n",
       "        vertical-align: top;\n",
       "    }\n",
       "\n",
       "    .dataframe thead tr th {\n",
       "        text-align: left;\n",
       "    }\n",
       "\n",
       "    .dataframe thead tr:last-of-type th {\n",
       "        text-align: right;\n",
       "    }\n",
       "</style>\n",
       "<table border=\"1\" class=\"dataframe\">\n",
       "  <thead>\n",
       "    <tr>\n",
       "      <th></th>\n",
       "      <th></th>\n",
       "      <th colspan=\"5\" halign=\"left\">% of On Time or Delayed by Airline and Destination</th>\n",
       "    </tr>\n",
       "    <tr>\n",
       "      <th></th>\n",
       "      <th>Destination</th>\n",
       "      <th>Los Angeles</th>\n",
       "      <th>Phoenix</th>\n",
       "      <th>San Diego</th>\n",
       "      <th>San Francisco</th>\n",
       "      <th>Seattle</th>\n",
       "    </tr>\n",
       "    <tr>\n",
       "      <th>Airline</th>\n",
       "      <th>OnTimeOrDelay</th>\n",
       "      <th></th>\n",
       "      <th></th>\n",
       "      <th></th>\n",
       "      <th></th>\n",
       "      <th></th>\n",
       "    </tr>\n",
       "  </thead>\n",
       "  <tbody>\n",
       "    <tr>\n",
       "      <th rowspan=\"2\" valign=\"top\">ALASKA</th>\n",
       "      <th>delayed</th>\n",
       "      <td>11.09</td>\n",
       "      <td>5.15</td>\n",
       "      <td>8.62</td>\n",
       "      <td>16.86</td>\n",
       "      <td>14.21</td>\n",
       "    </tr>\n",
       "    <tr>\n",
       "      <th>on time</th>\n",
       "      <td>88.91</td>\n",
       "      <td>94.85</td>\n",
       "      <td>91.38</td>\n",
       "      <td>83.14</td>\n",
       "      <td>85.79</td>\n",
       "    </tr>\n",
       "    <tr>\n",
       "      <th rowspan=\"2\" valign=\"top\">AM WEST</th>\n",
       "      <th>delayed</th>\n",
       "      <td>14.43</td>\n",
       "      <td>7.90</td>\n",
       "      <td>14.51</td>\n",
       "      <td>28.73</td>\n",
       "      <td>23.28</td>\n",
       "    </tr>\n",
       "    <tr>\n",
       "      <th>on time</th>\n",
       "      <td>85.57</td>\n",
       "      <td>92.10</td>\n",
       "      <td>85.49</td>\n",
       "      <td>71.27</td>\n",
       "      <td>76.72</td>\n",
       "    </tr>\n",
       "  </tbody>\n",
       "</table>\n",
       "</div>"
      ],
      "text/plain": [
       "                      % of On Time or Delayed by Airline and Destination  \\\n",
       "Destination                                                  Los Angeles   \n",
       "Airline OnTimeOrDelay                                                      \n",
       "ALASKA  delayed                                                    11.09   \n",
       "        on time                                                    88.91   \n",
       "AM WEST delayed                                                    14.43   \n",
       "        on time                                                    85.57   \n",
       "\n",
       "                                                               \n",
       "Destination           Phoenix San Diego San Francisco Seattle  \n",
       "Airline OnTimeOrDelay                                          \n",
       "ALASKA  delayed          5.15      8.62         16.86   14.21  \n",
       "        on time         94.85     91.38         83.14   85.79  \n",
       "AM WEST delayed          7.90     14.51         28.73   23.28  \n",
       "        on time         92.10     85.49         71.27   76.72  "
      ]
     },
     "execution_count": 109,
     "metadata": {},
     "output_type": "execute_result"
    }
   ],
   "source": [
    "df=pd.read_csv('Project1.csv')\n",
    "df['% of On Time or Delayed by Airline and Destination'] = round(df.Times / df.groupby([\"Airline\",\"Destination\"]).Times.transform(sum) * 100,2)\n",
    "pivot_table = pd.pivot_table(df,index=[\"Airline\",\"OnTimeOrDelay\"], columns=[\"Destination\"], values=[\"% of On Time or Delayed by Airline and Destination\"])\n",
    "pivot_table"
   ]
  },
  {
   "cell_type": "code",
   "execution_count": null,
   "id": "1ebf3366",
   "metadata": {},
   "outputs": [],
   "source": []
  }
 ],
 "metadata": {
  "kernelspec": {
   "display_name": "Python 3",
   "language": "python",
   "name": "python3"
  },
  "language_info": {
   "codemirror_mode": {
    "name": "ipython",
    "version": 3
   },
   "file_extension": ".py",
   "mimetype": "text/x-python",
   "name": "python",
   "nbconvert_exporter": "python",
   "pygments_lexer": "ipython3",
   "version": "3.8.8"
  }
 },
 "nbformat": 4,
 "nbformat_minor": 5
}
